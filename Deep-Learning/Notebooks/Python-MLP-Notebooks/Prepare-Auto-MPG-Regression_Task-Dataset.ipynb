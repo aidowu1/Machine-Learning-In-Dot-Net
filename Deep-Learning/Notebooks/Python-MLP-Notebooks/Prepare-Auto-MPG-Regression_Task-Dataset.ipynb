{
 "cells": [
  {
   "cell_type": "markdown",
   "id": "c71ba6c5-cd4c-4764-bcfc-52bc066c527d",
   "metadata": {},
   "source": [
    "# Prepare UCI Auto MPG Dataset\n",
    " - The data concerns city-cycle fuel consumption in miles per gallon (MPG), to be predicted\n",
    " - Data was original provided by Ross Quinlan (1993) and can be [soured from UCI](https://archive.ics.uci.edu/dataset/9/auto+mpg)\n",
    " - Original data comprises of 3 multivalued discrete and 5 continuous attributes\n",
    " - Only the 4 continuous features will be used in this analysis to predict MPG continuous response, namely:\n",
    "      - displacement\n",
    "      - horsepower\n",
    "      - weight      \n",
    "      - acceleration"
   ]
  },
  {
   "cell_type": "markdown",
   "id": "9813c8f4-7370-4488-8de2-996d21ec3c35",
   "metadata": {},
   "source": [
    "### Imports"
   ]
  },
  {
   "cell_type": "code",
   "execution_count": 9,
   "id": "ed67d30d-9a7a-48ea-9e7f-33e60d616c4e",
   "metadata": {},
   "outputs": [],
   "source": [
    "import pandas as pd\n"
   ]
  },
  {
   "cell_type": "markdown",
   "id": "ec1afed8-6b74-4241-aa5d-86d49ced2689",
   "metadata": {},
   "source": [
    "### Global constants"
   ]
  },
  {
   "cell_type": "code",
   "execution_count": 10,
   "id": "82f3d118-b541-434a-8514-a88f5d47b626",
   "metadata": {},
   "outputs": [],
   "source": [
    "DATA_SOURCE_URL = 'http://archive.ics.uci.edu/ml/machine-learning-databases/auto-mpg/auto-mpg.data'\n",
    "ALL_COLUMNS = column_names = ['MPG', 'Cylinders', 'Displacement', 'Horsepower', 'Weight',\n",
    "                'Acceleration', 'Model Year', 'Origin']\n",
    "EXCLUDED_COLUMNS = ['Cylinders', 'Model Year', 'Origin']\n",
    "INCLUDED_COLUMNS = list(set(ALL_COLUMNS).difference(set(EXCLUDED_COLUMNS)))\n",
    "SOURCE_DELIMITER = \" \"\n",
    "TARGET_DELIMITER = \";\"\n",
    "IS_SKIP_INITIAL_SPACE = True\n",
    "DATA_LOCAL_FILE_PATH = \"../data/uci_auto_mpg_dataset.csv\"\n",
    "DATA_ALL_COLS_LOCAL_FILE_PATH = \"../data/uci_auto_mpg_dataset_all_cols.csv\""
   ]
  },
  {
   "cell_type": "markdown",
   "id": "449ac28c-25c1-45fb-a65a-58fbebfdc823",
   "metadata": {},
   "source": [
    "### Get the data "
   ]
  },
  {
   "cell_type": "code",
   "execution_count": 3,
   "id": "6b1588b7-3692-4b99-8c11-8bbd0e5b84d5",
   "metadata": {},
   "outputs": [],
   "source": [
    "def getData():\n",
    "    raw_dataset_df = pd.read_csv(\n",
    "        DATA_SOURCE_URL,\n",
    "        names=ALL_COLUMNS,\n",
    "        na_values='?', \n",
    "        comment='\\t',\n",
    "        sep=SOURCE_DELIMITER, \n",
    "        skipinitialspace=IS_SKIP_INITIAL_SPACE\n",
    "    )    \n",
    "    return raw_dataset_df\n",
    "    \n",
    "raw_dataset_df = getData()"
   ]
  },
  {
   "cell_type": "markdown",
   "id": "a4578833-b079-4b22-8bf8-b737af89cdb6",
   "metadata": {},
   "source": [
    "### Clean the data (with column exclusions) and persist to disc"
   ]
  },
  {
   "cell_type": "code",
   "execution_count": 4,
   "id": "03750324-e4f6-4892-a981-136e42a72773",
   "metadata": {},
   "outputs": [
    {
     "name": "stdout",
     "output_type": "stream",
     "text": [
      "Read ../data/uci_auto_mpg_dataset.csv data..\n",
      "The data has these columns:\n",
      "['MPG', 'Weight', 'Horsepower', 'Displacement', 'Acceleration']\n"
     ]
    }
   ],
   "source": [
    "def cleanDataWithColumnExclusions():\n",
    "    raw_dataset_modified_df = raw_dataset_df.copy()[INCLUDED_COLUMNS]\n",
    "    raw_dataset_modified_df.dropna(inplace=True)\n",
    "    print(f\"Read {DATA_LOCAL_FILE_PATH} data..\")\n",
    "    print(f\"The data has these columns:\\n{list(raw_dataset_modified_df.columns)}\")\n",
    "    raw_dataset_modified_df.to_csv(DATA_LOCAL_FILE_PATH, index=False, sep=TARGET_DELIMITER)\n",
    "    return raw_dataset_modified_df\n",
    "\n",
    "raw_dataset_modified_df = cleanDataWithColumnExclusions()"
   ]
  },
  {
   "cell_type": "markdown",
   "id": "1e131735-51c0-4c5c-813c-a33e873cfbd1",
   "metadata": {},
   "source": [
    "### Analysis of data basic stats"
   ]
  },
  {
   "cell_type": "code",
   "execution_count": 5,
   "id": "291cf218-572b-4fcb-8414-c026828e4a62",
   "metadata": {},
   "outputs": [
    {
     "data": {
      "text/html": [
       "<div>\n",
       "<style scoped>\n",
       "    .dataframe tbody tr th:only-of-type {\n",
       "        vertical-align: middle;\n",
       "    }\n",
       "\n",
       "    .dataframe tbody tr th {\n",
       "        vertical-align: top;\n",
       "    }\n",
       "\n",
       "    .dataframe thead th {\n",
       "        text-align: right;\n",
       "    }\n",
       "</style>\n",
       "<table border=\"1\" class=\"dataframe\">\n",
       "  <thead>\n",
       "    <tr style=\"text-align: right;\">\n",
       "      <th></th>\n",
       "      <th>count</th>\n",
       "      <th>mean</th>\n",
       "      <th>std</th>\n",
       "      <th>min</th>\n",
       "      <th>25%</th>\n",
       "      <th>50%</th>\n",
       "      <th>75%</th>\n",
       "      <th>max</th>\n",
       "    </tr>\n",
       "  </thead>\n",
       "  <tbody>\n",
       "    <tr>\n",
       "      <th>MPG</th>\n",
       "      <td>392.0</td>\n",
       "      <td>23.445918</td>\n",
       "      <td>7.805007</td>\n",
       "      <td>9.0</td>\n",
       "      <td>17.000</td>\n",
       "      <td>22.75</td>\n",
       "      <td>29.000</td>\n",
       "      <td>46.6</td>\n",
       "    </tr>\n",
       "    <tr>\n",
       "      <th>Weight</th>\n",
       "      <td>392.0</td>\n",
       "      <td>2977.584184</td>\n",
       "      <td>849.402560</td>\n",
       "      <td>1613.0</td>\n",
       "      <td>2225.250</td>\n",
       "      <td>2803.50</td>\n",
       "      <td>3614.750</td>\n",
       "      <td>5140.0</td>\n",
       "    </tr>\n",
       "    <tr>\n",
       "      <th>Horsepower</th>\n",
       "      <td>392.0</td>\n",
       "      <td>104.469388</td>\n",
       "      <td>38.491160</td>\n",
       "      <td>46.0</td>\n",
       "      <td>75.000</td>\n",
       "      <td>93.50</td>\n",
       "      <td>126.000</td>\n",
       "      <td>230.0</td>\n",
       "    </tr>\n",
       "    <tr>\n",
       "      <th>Displacement</th>\n",
       "      <td>392.0</td>\n",
       "      <td>194.411990</td>\n",
       "      <td>104.644004</td>\n",
       "      <td>68.0</td>\n",
       "      <td>105.000</td>\n",
       "      <td>151.00</td>\n",
       "      <td>275.750</td>\n",
       "      <td>455.0</td>\n",
       "    </tr>\n",
       "    <tr>\n",
       "      <th>Acceleration</th>\n",
       "      <td>392.0</td>\n",
       "      <td>15.541327</td>\n",
       "      <td>2.758864</td>\n",
       "      <td>8.0</td>\n",
       "      <td>13.775</td>\n",
       "      <td>15.50</td>\n",
       "      <td>17.025</td>\n",
       "      <td>24.8</td>\n",
       "    </tr>\n",
       "  </tbody>\n",
       "</table>\n",
       "</div>"
      ],
      "text/plain": [
       "              count         mean         std     min       25%      50%  \\\n",
       "MPG           392.0    23.445918    7.805007     9.0    17.000    22.75   \n",
       "Weight        392.0  2977.584184  849.402560  1613.0  2225.250  2803.50   \n",
       "Horsepower    392.0   104.469388   38.491160    46.0    75.000    93.50   \n",
       "Displacement  392.0   194.411990  104.644004    68.0   105.000   151.00   \n",
       "Acceleration  392.0    15.541327    2.758864     8.0    13.775    15.50   \n",
       "\n",
       "                   75%     max  \n",
       "MPG             29.000    46.6  \n",
       "Weight        3614.750  5140.0  \n",
       "Horsepower     126.000   230.0  \n",
       "Displacement   275.750   455.0  \n",
       "Acceleration    17.025    24.8  "
      ]
     },
     "execution_count": 5,
     "metadata": {},
     "output_type": "execute_result"
    }
   ],
   "source": [
    "raw_dataset_modified_df.describe().transpose()"
   ]
  },
  {
   "cell_type": "markdown",
   "id": "09df5313-c39a-42fb-aa15-2e4179c02bbd",
   "metadata": {},
   "source": [
    "### Clean the data (with no column exclusions) and persist to disc\n",
    " - Dataset will include all columns i.e. both continious and categorical features\n",
    " - The 'Origin' categorical feature will be converted to a one-hot encoding"
   ]
  },
  {
   "cell_type": "code",
   "execution_count": 13,
   "id": "72aa98b8-3706-4f2e-976d-6e00361206b1",
   "metadata": {},
   "outputs": [
    {
     "data": {
      "text/html": [
       "<div>\n",
       "<style scoped>\n",
       "    .dataframe tbody tr th:only-of-type {\n",
       "        vertical-align: middle;\n",
       "    }\n",
       "\n",
       "    .dataframe tbody tr th {\n",
       "        vertical-align: top;\n",
       "    }\n",
       "\n",
       "    .dataframe thead th {\n",
       "        text-align: right;\n",
       "    }\n",
       "</style>\n",
       "<table border=\"1\" class=\"dataframe\">\n",
       "  <thead>\n",
       "    <tr style=\"text-align: right;\">\n",
       "      <th></th>\n",
       "      <th>MPG</th>\n",
       "      <th>Cylinders</th>\n",
       "      <th>Displacement</th>\n",
       "      <th>Horsepower</th>\n",
       "      <th>Weight</th>\n",
       "      <th>Acceleration</th>\n",
       "      <th>Model Year</th>\n",
       "      <th>Europe</th>\n",
       "      <th>Japan</th>\n",
       "      <th>USA</th>\n",
       "    </tr>\n",
       "  </thead>\n",
       "  <tbody>\n",
       "    <tr>\n",
       "      <th>393</th>\n",
       "      <td>27.0</td>\n",
       "      <td>4</td>\n",
       "      <td>140.0</td>\n",
       "      <td>86.0</td>\n",
       "      <td>2790.0</td>\n",
       "      <td>15.6</td>\n",
       "      <td>82</td>\n",
       "      <td>0</td>\n",
       "      <td>0</td>\n",
       "      <td>1</td>\n",
       "    </tr>\n",
       "    <tr>\n",
       "      <th>394</th>\n",
       "      <td>44.0</td>\n",
       "      <td>4</td>\n",
       "      <td>97.0</td>\n",
       "      <td>52.0</td>\n",
       "      <td>2130.0</td>\n",
       "      <td>24.6</td>\n",
       "      <td>82</td>\n",
       "      <td>1</td>\n",
       "      <td>0</td>\n",
       "      <td>0</td>\n",
       "    </tr>\n",
       "    <tr>\n",
       "      <th>395</th>\n",
       "      <td>32.0</td>\n",
       "      <td>4</td>\n",
       "      <td>135.0</td>\n",
       "      <td>84.0</td>\n",
       "      <td>2295.0</td>\n",
       "      <td>11.6</td>\n",
       "      <td>82</td>\n",
       "      <td>0</td>\n",
       "      <td>0</td>\n",
       "      <td>1</td>\n",
       "    </tr>\n",
       "    <tr>\n",
       "      <th>396</th>\n",
       "      <td>28.0</td>\n",
       "      <td>4</td>\n",
       "      <td>120.0</td>\n",
       "      <td>79.0</td>\n",
       "      <td>2625.0</td>\n",
       "      <td>18.6</td>\n",
       "      <td>82</td>\n",
       "      <td>0</td>\n",
       "      <td>0</td>\n",
       "      <td>1</td>\n",
       "    </tr>\n",
       "    <tr>\n",
       "      <th>397</th>\n",
       "      <td>31.0</td>\n",
       "      <td>4</td>\n",
       "      <td>119.0</td>\n",
       "      <td>82.0</td>\n",
       "      <td>2720.0</td>\n",
       "      <td>19.4</td>\n",
       "      <td>82</td>\n",
       "      <td>0</td>\n",
       "      <td>0</td>\n",
       "      <td>1</td>\n",
       "    </tr>\n",
       "  </tbody>\n",
       "</table>\n",
       "</div>"
      ],
      "text/plain": [
       "      MPG  Cylinders  Displacement  Horsepower  Weight  Acceleration  \\\n",
       "393  27.0          4         140.0        86.0  2790.0          15.6   \n",
       "394  44.0          4          97.0        52.0  2130.0          24.6   \n",
       "395  32.0          4         135.0        84.0  2295.0          11.6   \n",
       "396  28.0          4         120.0        79.0  2625.0          18.6   \n",
       "397  31.0          4         119.0        82.0  2720.0          19.4   \n",
       "\n",
       "     Model Year  Europe  Japan  USA  \n",
       "393          82       0      0    1  \n",
       "394          82       1      0    0  \n",
       "395          82       0      0    1  \n",
       "396          82       0      0    1  \n",
       "397          82       0      0    1  "
      ]
     },
     "execution_count": 13,
     "metadata": {},
     "output_type": "execute_result"
    }
   ],
   "source": [
    "def convertOriginColumn2OneHotEncoding():\n",
    "    raw_dataset_all_df = raw_dataset_df.copy()\n",
    "    raw_dataset_all_df['Origin'] = raw_dataset_all_df['Origin'].map({1: 'USA', 2: 'Europe', 3: 'Japan'})\n",
    "    raw_dataset_all_modified_df = pd.get_dummies(raw_dataset_all_df, columns=['Origin'], prefix='', prefix_sep='')\n",
    "    raw_dataset_all_modified_df.Europe = raw_dataset_all_modified_df.Europe.astype(int)\n",
    "    raw_dataset_all_modified_df.Japan = raw_dataset_all_modified_df.Japan.astype(int)\n",
    "    raw_dataset_all_modified_df.USA = raw_dataset_all_modified_df.USA.astype(int)\n",
    "    return raw_dataset_all_modified_df\n",
    "\n",
    "raw_dataset_all_modified_df = convertOriginColumn2OneHotEncoding()\n",
    "raw_dataset_all_modified_df.tail()"
   ]
  },
  {
   "cell_type": "code",
   "execution_count": 14,
   "id": "3b01b74c-fbbb-4ebe-89eb-35699e36ec06",
   "metadata": {},
   "outputs": [
    {
     "name": "stdout",
     "output_type": "stream",
     "text": [
      "Read ../data/uci_auto_mpg_dataset_all_cols.csv data..\n",
      "The data has these columns:\n",
      "['MPG', 'Cylinders', 'Displacement', 'Horsepower', 'Weight', 'Acceleration', 'Model Year', 'Europe', 'Japan', 'USA']\n"
     ]
    }
   ],
   "source": [
    "def cleanDataWithColumnExclusions():\n",
    "    raw_dataset_all_clean_df = raw_dataset_all_modified_df.copy()\n",
    "    raw_dataset_all_clean_df.dropna(inplace=True)    \n",
    "    print(f\"Read {DATA_ALL_COLS_LOCAL_FILE_PATH} data..\")\n",
    "    print(f\"The data has these columns:\\n{list(raw_dataset_modified_df.columns)}\")\n",
    "    raw_dataset_all_clean_df.to_csv(DATA_ALL_COLS_LOCAL_FILE_PATH, index=False, sep=TARGET_DELIMITER)\n",
    "    return raw_dataset_all_clean_df\n",
    "\n",
    "raw_dataset_modified_df = cleanDataWithColumnExclusions()"
   ]
  },
  {
   "cell_type": "code",
   "execution_count": null,
   "id": "80910f26-7bb4-4136-9d29-92e78ee5f2fa",
   "metadata": {},
   "outputs": [],
   "source": []
  }
 ],
 "metadata": {
  "kernelspec": {
   "display_name": "mli_env",
   "language": "python",
   "name": "mli_env"
  },
  "language_info": {
   "codemirror_mode": {
    "name": "ipython",
    "version": 3
   },
   "file_extension": ".py",
   "mimetype": "text/x-python",
   "name": "python",
   "nbconvert_exporter": "python",
   "pygments_lexer": "ipython3",
   "version": "3.10.13"
  }
 },
 "nbformat": 4,
 "nbformat_minor": 5
}
