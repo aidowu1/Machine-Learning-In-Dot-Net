{
 "cells": [
  {
   "cell_type": "code",
   "execution_count": null,
   "metadata": {
    "dotnet_interactive": {
     "language": "csharp"
    },
    "polyglot_notebook": {
     "kernelName": "csharp"
    },
    "vscode": {
     "languageId": "polyglot-notebook"
    }
   },
   "outputs": [],
   "source": []
  },
  {
   "cell_type": "markdown",
   "metadata": {},
   "source": [
    "## Demo of MLP Neural Net for Regression and Classification Problems"
   ]
  },
  {
   "cell_type": "markdown",
   "metadata": {},
   "source": [
    "### Install required nuget packages"
   ]
  },
  {
   "cell_type": "code",
   "execution_count": 9,
   "metadata": {
    "dotnet_interactive": {
     "language": "csharp"
    },
    "polyglot_notebook": {
     "kernelName": "csharp"
    },
    "vscode": {
     "languageId": "polyglot-notebook"
    }
   },
   "outputs": [
    {
     "data": {
      "text/html": [
       "<div><div></div><div></div><div><strong>Installed Packages</strong><ul><li><span>Numpy, 3.11.1.33</span></li><li><span>NumSharp, 0.30.0</span></li><li><span>SciSharp.TensorFlow.Redist, 2.16.0</span></li><li><span>Tensorflow.Keras, 0.15.0</span></li><li><span>Tensorflow.NET, 0.150.0</span></li></ul></div></div>"
      ]
     },
     "metadata": {},
     "output_type": "display_data"
    }
   ],
   "source": [
    "#r \"nuget: Tensorflow.NET\"\n",
    "#r \"nuget: Tensorflow.Keras\"\n",
    "#r \"nuget: SciSharp.TensorFlow.Redist\"\n",
    "#r \"nuget: Numpy, 3.11.1.33\"\n",
    "#r \"nuget: NumSharp, 0.30.0\""
   ]
  },
  {
   "cell_type": "markdown",
   "metadata": {},
   "source": [
    "### Used namespaces"
   ]
  },
  {
   "cell_type": "code",
   "execution_count": 12,
   "metadata": {
    "dotnet_interactive": {
     "language": "csharp"
    },
    "polyglot_notebook": {
     "kernelName": "csharp"
    },
    "vscode": {
     "languageId": "polyglot-notebook"
    }
   },
   "outputs": [],
   "source": [
    "using static Tensorflow.Binding;\n",
    "using static Tensorflow.KerasApi;\n",
    "using Tensorflow;\n",
    "using TensorNumpy = Tensorflow.NumPy;\n",
    "using Numpy;\n",
    "using System;\n",
    "using System.IO;\n",
    "using Numpy.Models;\n",
    "using OneOf.Types;\n",
    "using Tensorflow.Keras.Metrics;"
   ]
  },
  {
   "cell_type": "markdown",
   "metadata": {},
   "source": [
    "### Define global constants and variables.."
   ]
  },
  {
   "cell_type": "code",
   "execution_count": 30,
   "metadata": {
    "dotnet_interactive": {
     "language": "csharp"
    },
    "polyglot_notebook": {
     "kernelName": "csharp"
    },
    "vscode": {
     "languageId": "polyglot-notebook"
    }
   },
   "outputs": [],
   "source": [
    "class Configs\n",
    "{\n",
    "    public static string WORKING_DIRECTORY = Directory.GetCurrentDirectory();\n",
    "    //public const string DATA_FILE_PATH = \"../data/heart_disease_dataset.csv\"; \n",
    "    public static string DATA_FILE_PATH = Path.Combine(WORKING_DIRECTORY, @\"data\\winequality-red.csv\");\n",
    "    //public const char FILE_DELIMITER = ',';\n",
    "    public const char FILE_DELIMITER = ';';\n",
    "    public const bool IS_USE_HEADER = true;\n",
    "    public const bool IS_CLASSIFICATION_TASK = false;\n",
    "    public const float LEARNING_RATE = 0.001f;\n",
    "    public const float TRAIN_VALID_SPLIT_FRACTION = 0.80f;\n",
    "    public const float VALID_SPLIT_FRACTION = 0.20f;\n",
    "    public const float TEST_SPLIT_FRACTION = 1.0f - TRAIN_VALID_SPLIT_FRACTION;\n",
    "    public const bool IS_SHUFFLE_DATA = true;\n",
    "    public const string NEURAL_NET_TOPOLOGY_FILENAME = \"../../resources/classification_neural_net.png\";\n",
    "    public const int RANDOM_SEED = 0;\n",
    "    public const int EPOCH_REPORT_LIMIT = 20;\n",
    "    public const float DROPOUT_RATE = 0.2f;\n",
    "}\n"
   ]
  },
  {
   "cell_type": "markdown",
   "metadata": {},
   "source": [
    "### Utility helper class"
   ]
  },
  {
   "cell_type": "code",
   "execution_count": 31,
   "metadata": {
    "dotnet_interactive": {
     "language": "csharp"
    },
    "polyglot_notebook": {
     "kernelName": "csharp"
    },
    "vscode": {
     "languageId": "polyglot-notebook"
    }
   },
   "outputs": [],
   "source": [
    "\n",
    "public static class Helpers\n",
    "{\n",
    "    public static ValueTuple<NDarray, NDarray, NDarray, NDarray> splitData(\n",
    "        NDarray X,\n",
    "        NDarray y,\n",
    "        double split_fraction,\n",
    "        bool is_shuffle=true\n",
    "        )\n",
    "    {\n",
    "        int n_rows = X.shape[0];\n",
    "        int n_train_rows = (int) (n_rows * (1.0 - split_fraction));\n",
    "        string train_filter = $\":{n_train_rows},:\";\n",
    "        string test_filter = $\"{n_train_rows}:,:\";\n",
    "        if (is_shuffle)\n",
    "        {\n",
    "            X = Numpy.np.random.permutation(X);\n",
    "            y = Numpy.np.random.permutation(y);            \n",
    "        }\n",
    "        \n",
    "        var X_train = X[train_filter];\n",
    "        var X_test = X[test_filter];\n",
    "        var y_train = y[train_filter];\n",
    "        var y_test = y[test_filter];\n",
    "        var result = (X_train, X_test, y_train, y_test);\n",
    "        return result;\n",
    "    }\n",
    "\n",
    "    public static ValueTuple<NDarray, NDarray> computeMinMax(NDarray dataset)\n",
    "    {\n",
    "        var min_values = Numpy.np.min(dataset, axis: new int[0]);\n",
    "        var max_values = Numpy.np.max(dataset, axis: new int[0]);\n",
    "        return (min_values, max_values);\n",
    "    }\n",
    "\n",
    "    public static NDarray minmaxScaling(NDarray dataset, ValueTuple<NDarray, NDarray> minmax)\n",
    "    {\n",
    "        var dataset_scaled = (dataset - minmax.Item1) / (minmax.Item2 - minmax.Item1);\n",
    "        return dataset_scaled;\n",
    "    }\n",
    "\n",
    "    public static (NumSharp.NDArray, NumSharp.NDArray) ReadCsv(\n",
    "        string path, \n",
    "        char delimiter=',', \n",
    "        bool has_header=Configs.IS_USE_HEADER,\n",
    "        bool is_classification_task=Configs.IS_CLASSIFICATION_TASK\n",
    "        ) \n",
    "    {\n",
    "        List<object> labels = new List<object>();\n",
    "\n",
    "        var x1 = new List<double>();\n",
    "        var y1 = new List<object>();        \n",
    "\n",
    "        int length1d = 0;\n",
    "        int length2d = 0;\n",
    "        bool has_skipped_header = false;\n",
    "\n",
    "        using (StreamReader reader = new StreamReader(path))\n",
    "        {\n",
    "            string line = String.Empty;\n",
    "\n",
    "            while (!String.IsNullOrEmpty(line = reader.ReadLine()))\n",
    "            {\n",
    "                if (has_header & !has_skipped_header)\n",
    "                {\n",
    "                    has_skipped_header = true;\n",
    "                    continue;\n",
    "                }\n",
    "                    \n",
    "                var tokens = line.Split(delimiter);\n",
    "                x1.AddRange(tokens.Select(x => double.Parse(x)).Take(tokens.Length - 1));\n",
    "\n",
    "                object _y;\n",
    "                if (is_classification_task)\n",
    "                {\n",
    "                    _y = int.Parse(tokens[tokens.Length - 1]);\n",
    "                    if (!labels.Contains(_y))\n",
    "                    {\n",
    "                        labels.Add(_y);\n",
    "                    }\n",
    "                    y1.Add(labels.FindIndex(l => l == _y));\n",
    "                }\n",
    "                else\n",
    "                {\n",
    "                    _y = double.Parse(tokens[tokens.Length - 1]);\n",
    "                    y1.Add(_y);\n",
    "                }\n",
    "\n",
    "                length1d++;\n",
    "                length2d = tokens.Length - 1;\n",
    "            }\n",
    "        }\n",
    "\n",
    "        var X = NumSharp.np.array(x1.ToArray()).reshape(length1d, length2d);\n",
    "        //if (is_classification_task)\n",
    "            //var y = NumSharp.np.array(y1.Select(x => (int) X).ToArray()).reshape(-1, 1);\n",
    "        if (is_classification_task)\n",
    "        {\n",
    "            var y_int = NumSharp.np.array(y1.ToArray()).reshape(-1, 1);\n",
    "            return (X, y_int); \n",
    "        }\n",
    "        else\n",
    "        {\n",
    "            var y_double = NumSharp.np.array(y1.Select(x => Convert.ToDouble(x)).ToArray()).reshape(-1, 1);\n",
    "            return (X, y_double); \n",
    "        }        \n",
    "    }\n",
    "\n",
    "    public static (NumSharp.NDArray, NumSharp.NDArray) shuffleDataset(\n",
    "        NumSharp.NDArray X, \n",
    "        NumSharp.NDArray y)\n",
    "    {\n",
    "        var perm = NumSharp.np.random.permutation(y.shape[0]);\n",
    "\n",
    "        NumSharp.np.random.shuffle(perm);\n",
    "        return (X[perm], y[perm]);\n",
    "    }\n",
    "\n",
    "    public static (NumSharp.NDArray, NumSharp.NDArray, NumSharp.NDArray, NumSharp.NDArray) splitDataset(\n",
    "        NumSharp.NDArray X, \n",
    "        NumSharp.NDArray y,\n",
    "        float split_factor\n",
    "        )\n",
    "    {\n",
    "        var n_rows =  X.shape[0];\n",
    "        var n_train_valid = (int) (n_rows * split_factor);\n",
    "        var train_valid_pattern = $\":{n_train_valid}\";\n",
    "        var test_pattern = $\"{n_train_valid}:\";\n",
    "        var X_train_valid = X[train_valid_pattern];\n",
    "        var X_test = X[test_pattern];\n",
    "        var y_train_valid = y[train_valid_pattern];\n",
    "        var y_test = y[test_pattern];\n",
    "\n",
    "        return (X_train_valid, X_test, y_train_valid, y_test);\n",
    "    }\n",
    "\n",
    "    public static (NumSharp.NDArray, NumSharp.NDArray, NumSharp.NDArray) normalizeData(NumSharp.NDArray X)\n",
    "    {\n",
    "        var mean = NumSharp.np.mean(X, axis: 0);\n",
    "        var std = NumSharp.np.std(X, axis: 0);\n",
    "        var X_normalized =  (X - mean) / std;\n",
    "        return (X_normalized, mean, std);\n",
    "    }\n",
    "}       "
   ]
  },
  {
   "cell_type": "markdown",
   "metadata": {},
   "source": [
    "### Custom metric - R^2"
   ]
  },
  {
   "cell_type": "code",
   "execution_count": 37,
   "metadata": {
    "dotnet_interactive": {
     "language": "csharp"
    },
    "polyglot_notebook": {
     "kernelName": "csharp"
    },
    "vscode": {
     "languageId": "polyglot-notebook"
    }
   },
   "outputs": [],
   "source": [
    "public class RSquared : IMetricFunc\n",
    "{\n",
    "    Tensor? rSquared;\n",
    "\n",
    "    public RSquared()\n",
    "    {\n",
    "        rSquared = null;\n",
    "    }\n",
    "\n",
    "    public Tensor update_state(Tensor y_true, Tensor y_pred, Tensor args)\n",
    "    {\n",
    "        var residual = tf.reduce_sum(tf.square(tf.subtract(y_true, y_pred)));\n",
    "        var total = tf.reduce_sum(tf.square(tf.subtract(y_true, tf.reduce_mean(y_true))));\n",
    "        rSquared = tf.subtract(tf.constant(1.0f), tf.divide(residual, total));\n",
    "        return rSquared;\n",
    "    }\n",
    "\n",
    "    public Tensor result()\n",
    "    {\n",
    "        return rSquared;\n",
    "    }\n",
    "\n",
    "    public void reset_states()\n",
    "    {\n",
    "\n",
    "    }\n",
    "\n",
    "    public string Name => \"RSquared\";\n",
    "}\n"
   ]
  },
  {
   "cell_type": "markdown",
   "metadata": {},
   "source": [
    "### Demo of the MLP Neural Network"
   ]
  },
  {
   "cell_type": "code",
   "execution_count": 43,
   "metadata": {
    "dotnet_interactive": {
     "language": "csharp"
    },
    "polyglot_notebook": {
     "kernelName": "csharp"
    },
    "vscode": {
     "languageId": "polyglot-notebook"
    }
   },
   "outputs": [],
   "source": [
    "public static class Demo\n",
    "{\n",
    "    public static void run()\n",
    "    {\n",
    "        demoMLP();                    \n",
    "    }\n",
    "\n",
    "    static (NumSharp.NDArray, NumSharp.NDArray, NumSharp.NDArray, NumSharp.NDArray, NumSharp.NDArray, NumSharp.NDArray) \n",
    "    readAndPreprocessData()\n",
    "    {\n",
    "        var (X,y) = Helpers.ReadCsv(Configs.DATA_FILE_PATH, Configs.FILE_DELIMITER);\n",
    "        var (X_shuffled, y_shuffled) = Helpers.shuffleDataset(X, y);\n",
    "        var (X_train_valid, X_test, y_train_valid, y_test) = Helpers.splitDataset(\n",
    "            X_shuffled, \n",
    "            y_shuffled, \n",
    "            split_factor: Configs.TRAIN_VALID_SPLIT_FRACTION);\n",
    "        return (X, y, X_train_valid, X_test, y_train_valid, y_test);\n",
    "    }\n",
    "\n",
    "    static TensorNumpy.NDArray convertToCSharpFloatArrayFromNdarray(NumSharp.NDArray x) \n",
    "    {\n",
    "        var x_array = x.ToMuliDimArray<float>();\n",
    "        var x_tensor_array = TensorNumpy.np.array(x_array);\n",
    "        return x_tensor_array;            \n",
    "    } \n",
    "\n",
    "    static TensorNumpy.NDArray convertToCSharpIntArrayFromNdarray(NumSharp.NDArray x) \n",
    "    {\n",
    "        var x_array = x.ToMuliDimArray<int>();\n",
    "        var x_tensor_array = TensorNumpy.np.array(x_array);\n",
    "        return x_tensor_array;            \n",
    "    } \n",
    "\n",
    "    static void demoMLP()\n",
    "    {\n",
    "        var (X, y, X_train_valid, X_test, y_train_valid, y_test) = readAndPreprocessData();\n",
    "        var (X_train_valid_norm, X_mean, X_std) = Helpers.normalizeData(X_train_valid);\n",
    "        var (y_train_valid_norm, y_mean, y_std) = Helpers.normalizeData(y_train_valid);\n",
    "        var n_features = X_train_valid.shape[1];\n",
    "        \n",
    "        var model = createMLPModel(n_features);\n",
    "        var X_train_valid_tensor_array = convertToCSharpFloatArrayFromNdarray(X_train_valid_norm);\n",
    "        var y_train_valid_tensor_array = convertToCSharpFloatArrayFromNdarray(y_train_valid_norm);\n",
    "        model.fit(\n",
    "            x: X_train_valid_tensor_array, \n",
    "            y: y_train_valid_tensor_array,\n",
    "            validation_split: 0.20f,\n",
    "            epochs: 10, \n",
    "            batch_size: 32);\n",
    "    }\n",
    "\n",
    "    private static Tensorflow.Keras.Engine.Sequential createMLPModel(int n_features)\n",
    "    {\n",
    "        var model = KerasApi.keras.Sequential();\n",
    "        model.add(KerasApi.keras.layers.Dense(\n",
    "            units: 64,\n",
    "            input_shape: new Tensorflow.Shape(n_features),\n",
    "            activation: KerasApi.keras.activations.Relu\n",
    "        ));\n",
    "        model.add(KerasApi.keras.layers.Dense(\n",
    "            units: 64,\n",
    "            activation: KerasApi.keras.activations.Relu\n",
    "        ));\n",
    "        model.add(KerasApi.keras.layers.Dense(\n",
    "            units: 64,\n",
    "            activation: KerasApi.keras.activations.Relu\n",
    "        ));\n",
    "        model.add(KerasApi.keras.layers.Dense(\n",
    "            units: 1\n",
    "        ));\n",
    "        model.summary();\n",
    "        IMetricFunc metric = new RSquared();\n",
    "        model.compile(\n",
    "            optimizer: KerasApi.keras.optimizers.Adam(learning_rate: Configs.LEARNING_RATE),\n",
    "            loss: KerasApi.keras.losses.MeanAbsoluteError(),\n",
    "            //metrics: new [] {}\n",
    "            //metrics: new[] { KerasApi.keras.metrics.Accuracy() }\n",
    "            metrics: new[] { metric }\n",
    "        );\n",
    "        return model;\n",
    "    }\n",
    "\n",
    "    static void createMLPModel(\n",
    "            NumSharp.NDArray X_train_valid, \n",
    "            NumSharp.NDArray y_train_valid)\n",
    "    {\n",
    "        var n_features = X_train_valid.shape[0];\n",
    "        var (X_train_valid_norm, X_mean, X_std) = Helpers.normalizeData(X_train_valid);\n",
    "        var (y_train_valid_norm, y_mean, y_std) = Helpers.normalizeData(y_train_valid);\n",
    "                    \n",
    "    } \n",
    "    \n",
    "}"
   ]
  },
  {
   "cell_type": "code",
   "execution_count": 44,
   "metadata": {
    "dotnet_interactive": {
     "language": "csharp"
    },
    "polyglot_notebook": {
     "kernelName": "csharp"
    },
    "vscode": {
     "languageId": "polyglot-notebook"
    }
   },
   "outputs": [
    {
     "name": "stdout",
     "output_type": "stream",
     "text": [
      "Model: sequential \n",
      "_________________________________________________________________ \n",
      "Layer (type)                  Output Shape              Param #   \n",
      "================================================================= \n",
      "dense (Dense)                 (None, 64)                768       \n",
      "_________________________________________________________________ \n",
      "dense_1 (Dense)               (None, 64)                4160      \n",
      "_________________________________________________________________ \n",
      "dense_2 (Dense)               (None, 64)                4160      \n",
      "_________________________________________________________________ \n",
      "dense_3 (Dense)               (None, 1)                 65        \n",
      "================================================================= \n",
      "Total params: 9153 \n",
      "Trainable params: 9153 \n",
      "Non-trainable params: 0 \n",
      "_________________________________________________________________ \n",
      "Epoch: 001/010\n",
      "0001/0032 [>............................] - 251ms/step - loss: 0.929420 - RSquared: -0.2136470002/0032 [>............................] - 12ms/step - loss: 0.860997 - RSquared: -0.0462370003/0032 [>............................] - 7ms/step - loss: 0.915825 - RSquared: -0.0520870004/0032 [=>...........................] - 9ms/step - loss: 0.930581 - RSquared: -0.0848170005/0032 [==>..........................] - 11ms/step - loss: 0.886856 - RSquared: 0.0261310006/0032 [===>.........................] - 10ms/step - loss: 0.865435 - RSquared: 0.1029720007/0032 [====>........................] - 6ms/step - loss: 0.875405 - RSquared: -0.0882040008/0032 [=====>.......................] - 7ms/step - loss: 0.866010 - RSquared: 0.0977660009/0032 [======>......................] - 11ms/step - loss: 0.859258 - RSquared: 0.1665530010/0032 [=======>.....................] - 6ms/step - loss: 0.859987 - RSquared: 0.0257340011/0032 [========>....................] - 7ms/step - loss: 0.845478 - RSquared: 0.3141030012/0032 [=========>...................] - 7ms/step - loss: 0.823770 - RSquared: 0.4733570013/0032 [==========>..................] - 7ms/step - loss: 0.826229 - RSquared: 0.2264340014/0032 [===========>.................] - 8ms/step - loss: 0.812103 - RSquared: 0.1692530015/0032 [============>................] - 7ms/step - loss: 0.807230 - RSquared: 0.2279390016/0032 [=============>...............] - 8ms/step - loss: 0.798072 - RSquared: 0.3782140017/0032 [==============>..............] - 9ms/step - loss: 0.786251 - RSquared: 0.2132800018/0032 [==============>..............] - 7ms/step - loss: 0.780899 - RSquared: 0.2900010019/0032 [===============>.............] - 7ms/step - loss: 0.775010 - RSquared: 0.2723930020/0032 [================>............] - 8ms/step - loss: 0.763578 - RSquared: 0.4542750021/0032 [=================>...........] - 8ms/step - loss: 0.757553 - RSquared: 0.3597610022/0032 [==================>..........] - 6ms/step - loss: 0.748468 - RSquared: 0.3082570023/0032 [===================>.........] - 7ms/step - loss: 0.744197 - RSquared: 0.3761630024/0032 [====================>........] - 6ms/step - loss: 0.737162 - RSquared: 0.1739360025/0032 [=====================>.......] - 6ms/step - loss: 0.730142 - RSquared: 0.5205700026/0032 [======================>......] - 6ms/step - loss: 0.727536 - RSquared: 0.2898770027/0032 [=======================>.....] - 6ms/step - loss: 0.723827 - RSquared: -0.0022150028/0032 [========================>....] - 5ms/step - loss: 0.721053 - RSquared: 0.5179950029/0032 [=========================>...] - 8ms/step - loss: 0.720118 - RSquared: 0.0069750030/0032 [==========================>..] - 6ms/step - loss: 0.717985 - RSquared: 0.2370520031/0032 [===========================>.] - 7ms/step - loss: 0.719295 - RSquared: 0.3219090032/0032 [=============================] - 10ms/step - loss: 0.717346 - RSquared: -0.0699260032/0032 [=============================] - 10ms/step - loss: 0.717346 - RSquared: -0.069926 - val_loss: 0.643439 - val_RSquared: 0.361768\n",
      "Epoch: 002/010\n",
      "0001/0032 [>............................] - 7ms/step - loss: 0.583681 - RSquared: 0.4216580002/0032 [>............................] - 7ms/step - loss: 0.521811 - RSquared: 0.5242990003/0032 [>............................] - 6ms/step - loss: 0.655467 - RSquared: 0.2002800004/0032 [=>...........................] - 6ms/step - loss: 0.633134 - RSquared: 0.4539020005/0032 [==>..........................] - 9ms/step - loss: 0.624815 - RSquared: 0.3655640006/0032 [===>.........................] - 13ms/step - loss: 0.606156 - RSquared: 0.4556190007/0032 [====>........................] - 7ms/step - loss: 0.593099 - RSquared: 0.4578460008/0032 [=====>.......................] - 7ms/step - loss: 0.598992 - RSquared: 0.4061320009/0032 [======>......................] - 7ms/step - loss: 0.593652 - RSquared: 0.5240130010/0032 [=======>.....................] - 7ms/step - loss: 0.602350 - RSquared: 0.2622530011/0032 [========>....................] - 6ms/step - loss: 0.596623 - RSquared: 0.5101310012/0032 [=========>...................] - 7ms/step - loss: 0.595265 - RSquared: 0.3252600013/0032 [==========>..................] - 7ms/step - loss: 0.601697 - RSquared: -0.2330100014/0032 [===========>.................] - 7ms/step - loss: 0.611766 - RSquared: 0.1360580015/0032 [============>................] - 6ms/step - loss: 0.610824 - RSquared: 0.4231380016/0032 [=============>...............] - 8ms/step - loss: 0.615967 - RSquared: 0.2547430017/0032 [==============>..............] - 6ms/step - loss: 0.622299 - RSquared: 0.3812370018/0032 [==============>..............] - 6ms/step - loss: 0.629573 - RSquared: 0.4566850019/0032 [===============>.............] - 8ms/step - loss: 0.633792 - RSquared: 0.2911990020/0032 [================>............] - 6ms/step - loss: 0.633276 - RSquared: 0.1701550021/0032 [=================>...........] - 6ms/step - loss: 0.626286 - RSquared: 0.5342020022/0032 [==================>..........] - 8ms/step - loss: 0.623412 - RSquared: 0.4379880023/0032 [===================>.........] - 8ms/step - loss: 0.624482 - RSquared: 0.4360410024/0032 [====================>........] - 7ms/step - loss: 0.628298 - RSquared: 0.3023360025/0032 [=====================>.......] - 9ms/step - loss: 0.619801 - RSquared: 0.4393520026/0032 [======================>......] - 6ms/step - loss: 0.620086 - RSquared: 0.2266110027/0032 [=======================>.....] - 6ms/step - loss: 0.622939 - RSquared: 0.2929530028/0032 [========================>....] - 5ms/step - loss: 0.620043 - RSquared: 0.4998600029/0032 [=========================>...] - 8ms/step - loss: 0.618670 - RSquared: 0.3130170030/0032 [==========================>..] - 9ms/step - loss: 0.621780 - RSquared: 0.2768650031/0032 [===========================>.] - 6ms/step - loss: 0.623482 - RSquared: 0.2484570032/0032 [=============================] - 7ms/step - loss: 0.625542 - RSquared: 0.3418600032/0032 [=============================] - 7ms/step - loss: 0.625542 - RSquared: 0.341860 - val_loss: 0.612826 - val_RSquared: 0.421155\n",
      "Epoch: 003/010\n",
      "0001/0032 [>............................] - 7ms/step - loss: 0.513768 - RSquared: 0.5926850002/0032 [>............................] - 8ms/step - loss: 0.589733 - RSquared: 0.1392290003/0032 [>............................] - 8ms/step - loss: 0.613119 - RSquared: 0.3980200004/0032 [=>...........................] - 9ms/step - loss: 0.626105 - RSquared: 0.2758880005/0032 [==>..........................] - 8ms/step - loss: 0.613402 - RSquared: 0.3982130006/0032 [===>.........................] - 6ms/step - loss: 0.614493 - RSquared: 0.5375640007/0032 [====>........................] - 5ms/step - loss: 0.612836 - RSquared: 0.5350490008/0032 [=====>.......................] - 6ms/step - loss: 0.630379 - RSquared: 0.3055210009/0032 [======>......................] - 8ms/step - loss: 0.619340 - RSquared: 0.2950880010/0032 [=======>.....................] - 6ms/step - loss: 0.617965 - RSquared: 0.1399010011/0032 [========>....................] - 7ms/step - loss: 0.606936 - RSquared: 0.4593550012/0032 [=========>...................] - 6ms/step - loss: 0.597903 - RSquared: 0.3764270013/0032 [==========>..................] - 6ms/step - loss: 0.587272 - RSquared: 0.6452240014/0032 [===========>.................] - 6ms/step - loss: 0.580050 - RSquared: 0.5047770015/0032 [============>................] - 6ms/step - loss: 0.579033 - RSquared: 0.2529650016/0032 [=============>...............] - 7ms/step - loss: 0.586788 - RSquared: 0.1514960017/0032 [==============>..............] - 6ms/step - loss: 0.586941 - RSquared: 0.4853350018/0032 [==============>..............] - 8ms/step - loss: 0.587965 - RSquared: 0.3607490019/0032 [===============>.............] - 6ms/step - loss: 0.586784 - RSquared: 0.2530240020/0032 [================>............] - 7ms/step - loss: 0.586938 - RSquared: 0.4145260021/0032 [=================>...........] - 6ms/step - loss: 0.585376 - RSquared: 0.5227800022/0032 [==================>..........] - 6ms/step - loss: 0.578678 - RSquared: 0.5475030023/0032 [===================>.........] - 7ms/step - loss: 0.583551 - RSquared: 0.3650810024/0032 [====================>........] - 7ms/step - loss: 0.585893 - RSquared: -0.0320920025/0032 [=====================>.......] - 6ms/step - loss: 0.585602 - RSquared: 0.3679160026/0032 [======================>......] - 7ms/step - loss: 0.583408 - RSquared: 0.4257880027/0032 [=======================>.....] - 6ms/step - loss: 0.581464 - RSquared: 0.4876060028/0032 [========================>....] - 6ms/step - loss: 0.579696 - RSquared: 0.5762340029/0032 [=========================>...] - 7ms/step - loss: 0.584914 - RSquared: 0.2356720030/0032 [==========================>..] - 6ms/step - loss: 0.589863 - RSquared: 0.5177760031/0032 [===========================>.] - 6ms/step - loss: 0.593082 - RSquared: 0.4998180032/0032 [=============================] - 7ms/step - loss: 0.591552 - RSquared: 0.3120410032/0032 [=============================] - 7ms/step - loss: 0.591552 - RSquared: 0.312041 - val_loss: 0.607514 - val_RSquared: 0.401410\n",
      "Epoch: 004/010\n",
      "0001/0032 [>............................] - 6ms/step - loss: 0.349488 - RSquared: 0.7278600002/0032 [>............................] - 7ms/step - loss: 0.450337 - RSquared: 0.3267830003/0032 [>............................] - 7ms/step - loss: 0.510589 - RSquared: 0.3331820004/0032 [=>...........................] - 8ms/step - loss: 0.500120 - RSquared: 0.5525060005/0032 [==>..........................] - 7ms/step - loss: 0.510469 - RSquared: 0.0370590006/0032 [===>.........................] - 6ms/step - loss: 0.531248 - RSquared: 0.4682390007/0032 [====>........................] - 7ms/step - loss: 0.549772 - RSquared: 0.1795230008/0032 [=====>.......................] - 7ms/step - loss: 0.554534 - RSquared: 0.2261170009/0032 [======>......................] - 8ms/step - loss: 0.557543 - RSquared: 0.5228110010/0032 [=======>.....................] - 7ms/step - loss: 0.570329 - RSquared: 0.2089250011/0032 [========>....................] - 6ms/step - loss: 0.567354 - RSquared: 0.4461680012/0032 [=========>...................] - 6ms/step - loss: 0.578236 - RSquared: 0.4781200013/0032 [==========>..................] - 7ms/step - loss: 0.577716 - RSquared: 0.4251040014/0032 [===========>.................] - 6ms/step - loss: 0.583827 - RSquared: 0.2766220015/0032 [============>................] - 6ms/step - loss: 0.574954 - RSquared: 0.5074400016/0032 [=============>...............] - 6ms/step - loss: 0.579713 - RSquared: 0.4152260017/0032 [==============>..............] - 7ms/step - loss: 0.584060 - RSquared: 0.3773630018/0032 [==============>..............] - 6ms/step - loss: 0.581709 - RSquared: 0.4437220019/0032 [===============>.............] - 7ms/step - loss: 0.582908 - RSquared: 0.5838780020/0032 [================>............] - 7ms/step - loss: 0.580921 - RSquared: 0.3828280021/0032 [=================>...........] - 7ms/step - loss: 0.586637 - RSquared: 0.4129780022/0032 [==================>..........] - 7ms/step - loss: 0.586356 - RSquared: 0.1982320023/0032 [===================>.........] - 8ms/step - loss: 0.580579 - RSquared: 0.6752880024/0032 [====================>........] - 6ms/step - loss: 0.583496 - RSquared: 0.5480750025/0032 [=====================>.......] - 6ms/step - loss: 0.579924 - RSquared: 0.5806900026/0032 [======================>......] - 6ms/step - loss: 0.578878 - RSquared: 0.5300800027/0032 [=======================>.....] - 8ms/step - loss: 0.578534 - RSquared: -0.2205900028/0032 [========================>....] - 6ms/step - loss: 0.579591 - RSquared: 0.2476180029/0032 [=========================>...] - 6ms/step - loss: 0.580068 - RSquared: 0.1351120030/0032 [==========================>..] - 27ms/step - loss: 0.578784 - RSquared: 0.5212690031/0032 [===========================>.] - 6ms/step - loss: 0.579108 - RSquared: 0.0670660032/0032 [=============================] - 6ms/step - loss: 0.580042 - RSquared: 0.3825120032/0032 [=============================] - 6ms/step - loss: 0.580042 - RSquared: 0.382512 - val_loss: 0.612748 - val_RSquared: 0.351993\n",
      "Epoch: 005/010\n",
      "0001/0032 [>............................] - 6ms/step - loss: 0.370335 - RSquared: 0.6712000002/0032 [>............................] - 6ms/step - loss: 0.414902 - RSquared: 0.1926300003/0032 [>............................] - 7ms/step - loss: 0.470467 - RSquared: 0.3731530004/0032 [=>...........................] - 9ms/step - loss: 0.534979 - RSquared: 0.2077030005/0032 [==>..........................] - 8ms/step - loss: 0.547026 - RSquared: 0.4807290006/0032 [===>.........................] - 6ms/step - loss: 0.520580 - RSquared: 0.2901110007/0032 [====>........................] - 5ms/step - loss: 0.524807 - RSquared: 0.2778230008/0032 [=====>.......................] - 7ms/step - loss: 0.534744 - RSquared: 0.4608980009/0032 [======>......................] - 7ms/step - loss: 0.535589 - RSquared: 0.3008610010/0032 [=======>.....................] - 6ms/step - loss: 0.538509 - RSquared: 0.5360140011/0032 [========>....................] - 6ms/step - loss: 0.557999 - RSquared: 0.3319320012/0032 [=========>...................] - 7ms/step - loss: 0.558284 - RSquared: 0.3311690013/0032 [==========>..................] - 6ms/step - loss: 0.557018 - RSquared: 0.3922200014/0032 [===========>.................] - 6ms/step - loss: 0.551098 - RSquared: 0.6057040015/0032 [============>................] - 5ms/step - loss: 0.557510 - RSquared: 0.4241860016/0032 [=============>...............] - 8ms/step - loss: 0.563311 - RSquared: 0.4195140017/0032 [==============>..............] - 5ms/step - loss: 0.563246 - RSquared: 0.5269900018/0032 [==============>..............] - 6ms/step - loss: 0.564236 - RSquared: 0.5358750019/0032 [===============>.............] - 6ms/step - loss: 0.561906 - RSquared: 0.6147730020/0032 [================>............] - 7ms/step - loss: 0.557781 - RSquared: 0.5331440021/0032 [=================>...........] - 7ms/step - loss: 0.551449 - RSquared: 0.6433470022/0032 [==================>..........] - 5ms/step - loss: 0.555302 - RSquared: 0.3409130023/0032 [===================>.........] - 6ms/step - loss: 0.560877 - RSquared: 0.3394400024/0032 [====================>........] - 7ms/step - loss: 0.558978 - RSquared: 0.4779310025/0032 [=====================>.......] - 7ms/step - loss: 0.561263 - RSquared: 0.4602900026/0032 [======================>......] - 7ms/step - loss: 0.561835 - RSquared: 0.4112580027/0032 [=======================>.....] - 6ms/step - loss: 0.560366 - RSquared: 0.5815540028/0032 [========================>....] - 6ms/step - loss: 0.562869 - RSquared: 0.1812710029/0032 [=========================>...] - 7ms/step - loss: 0.562744 - RSquared: 0.2637340030/0032 [==========================>..] - 5ms/step - loss: 0.559467 - RSquared: 0.5474340031/0032 [===========================>.] - 6ms/step - loss: 0.561666 - RSquared: 0.3344680032/0032 [=============================] - 5ms/step - loss: 0.565548 - RSquared: 0.3558640032/0032 [=============================] - 5ms/step - loss: 0.565548 - RSquared: 0.355864 - val_loss: 0.592273 - val_RSquared: 0.406420\n",
      "Epoch: 006/010\n",
      "0001/0032 [>............................] - 7ms/step - loss: 0.572052 - RSquared: 0.4351110002/0032 [>............................] - 6ms/step - loss: 0.578470 - RSquared: 0.4957620003/0032 [>............................] - 7ms/step - loss: 0.552708 - RSquared: 0.3447260004/0032 [=>...........................] - 8ms/step - loss: 0.524921 - RSquared: 0.4058520005/0032 [==>..........................] - 7ms/step - loss: 0.521852 - RSquared: 0.3313460006/0032 [===>.........................] - 5ms/step - loss: 0.546214 - RSquared: 0.4373760007/0032 [====>........................] - 5ms/step - loss: 0.549999 - RSquared: 0.5320740008/0032 [=====>.......................] - 7ms/step - loss: 0.554129 - RSquared: 0.3989530009/0032 [======>......................] - 5ms/step - loss: 0.552401 - RSquared: 0.4722460010/0032 [=======>.....................] - 7ms/step - loss: 0.551920 - RSquared: 0.5851430011/0032 [========>....................] - 5ms/step - loss: 0.553168 - RSquared: 0.4422130012/0032 [=========>...................] - 5ms/step - loss: 0.552897 - RSquared: 0.5699440013/0032 [==========>..................] - 6ms/step - loss: 0.556709 - RSquared: 0.6055080014/0032 [===========>.................] - 5ms/step - loss: 0.553732 - RSquared: 0.4855300015/0032 [============>................] - 7ms/step - loss: 0.548078 - RSquared: 0.4341300016/0032 [=============>...............] - 5ms/step - loss: 0.547917 - RSquared: 0.2613660017/0032 [==============>..............] - 7ms/step - loss: 0.542948 - RSquared: 0.4018570018/0032 [==============>..............] - 6ms/step - loss: 0.551788 - RSquared: 0.3824910019/0032 [===============>.............] - 5ms/step - loss: 0.551190 - RSquared: 0.4097720020/0032 [================>............] - 6ms/step - loss: 0.551793 - RSquared: 0.3678600021/0032 [=================>...........] - 5ms/step - loss: 0.550803 - RSquared: 0.5765870022/0032 [==================>..........] - 6ms/step - loss: 0.553190 - RSquared: 0.4630620023/0032 [===================>.........] - 6ms/step - loss: 0.551171 - RSquared: 0.5016860024/0032 [====================>........] - 7ms/step - loss: 0.548168 - RSquared: 0.4249880025/0032 [=====================>.......] - 6ms/step - loss: 0.555558 - RSquared: 0.2637130026/0032 [======================>......] - 6ms/step - loss: 0.553039 - RSquared: 0.4050180027/0032 [=======================>.....] - 5ms/step - loss: 0.557098 - RSquared: 0.2015170028/0032 [========================>....] - 12ms/step - loss: 0.557058 - RSquared: 0.3073270029/0032 [=========================>...] - 7ms/step - loss: 0.558255 - RSquared: 0.5029750030/0032 [==========================>..] - 6ms/step - loss: 0.555748 - RSquared: 0.5130470031/0032 [===========================>.] - 6ms/step - loss: 0.552464 - RSquared: 0.5012530032/0032 [=============================] - 7ms/step - loss: 0.554069 - RSquared: 0.4962370032/0032 [=============================] - 7ms/step - loss: 0.554069 - RSquared: 0.496237 - val_loss: 0.591000 - val_RSquared: 0.401550\n",
      "Epoch: 007/010\n",
      "0001/0032 [>............................] - 5ms/step - loss: 0.533497 - RSquared: 0.5553020002/0032 [>............................] - 7ms/step - loss: 0.520621 - RSquared: 0.2364800003/0032 [>............................] - 5ms/step - loss: 0.516970 - RSquared: 0.3179660004/0032 [=>...........................] - 7ms/step - loss: 0.520990 - RSquared: 0.4454390005/0032 [==>..........................] - 6ms/step - loss: 0.542379 - RSquared: 0.5111910006/0032 [===>.........................] - 8ms/step - loss: 0.536771 - RSquared: 0.5251350007/0032 [====>........................] - 7ms/step - loss: 0.527965 - RSquared: 0.6033240008/0032 [=====>.......................] - 7ms/step - loss: 0.545127 - RSquared: 0.4145910009/0032 [======>......................] - 6ms/step - loss: 0.542057 - RSquared: 0.3959570010/0032 [=======>.....................] - 6ms/step - loss: 0.555456 - RSquared: 0.4576950011/0032 [========>....................] - 5ms/step - loss: 0.555154 - RSquared: 0.1310330012/0032 [=========>...................] - 5ms/step - loss: 0.551007 - RSquared: 0.3074480013/0032 [==========>..................] - 6ms/step - loss: 0.561366 - RSquared: 0.5657360014/0032 [===========>.................] - 7ms/step - loss: 0.569440 - RSquared: 0.1901910015/0032 [============>................] - 7ms/step - loss: 0.563409 - RSquared: 0.5728030016/0032 [=============>...............] - 6ms/step - loss: 0.562337 - RSquared: 0.3597460017/0032 [==============>..............] - 5ms/step - loss: 0.556706 - RSquared: 0.5853290018/0032 [==============>..............] - 8ms/step - loss: 0.554261 - RSquared: 0.5268880019/0032 [===============>.............] - 12ms/step - loss: 0.555763 - RSquared: 0.2422810020/0032 [================>............] - 10ms/step - loss: 0.553039 - RSquared: 0.5792270021/0032 [=================>...........] - 5ms/step - loss: 0.554114 - RSquared: 0.1845190022/0032 [==================>..........] - 7ms/step - loss: 0.547333 - RSquared: 0.5763550023/0032 [===================>.........] - 5ms/step - loss: 0.547227 - RSquared: 0.4764330024/0032 [====================>........] - 5ms/step - loss: 0.540782 - RSquared: 0.6592130025/0032 [=====================>.......] - 6ms/step - loss: 0.542137 - RSquared: 0.5465250026/0032 [======================>......] - 7ms/step - loss: 0.542099 - RSquared: 0.3579620027/0032 [=======================>.....] - 6ms/step - loss: 0.546457 - RSquared: 0.4684610028/0032 [========================>....] - 6ms/step - loss: 0.546071 - RSquared: 0.5714520029/0032 [=========================>...] - 7ms/step - loss: 0.548431 - RSquared: 0.2613580030/0032 [==========================>..] - 7ms/step - loss: 0.546678 - RSquared: 0.6227720031/0032 [===========================>.] - 5ms/step - loss: 0.546390 - RSquared: 0.4718020032/0032 [=============================] - 6ms/step - loss: 0.545646 - RSquared: 0.4882960032/0032 [=============================] - 6ms/step - loss: 0.545646 - RSquared: 0.488296 - val_loss: 0.600150 - val_RSquared: 0.351041\n",
      "Epoch: 008/010\n",
      "0001/0032 [>............................] - 6ms/step - loss: 0.543318 - RSquared: 0.6183900002/0032 [>............................] - 5ms/step - loss: 0.543427 - RSquared: 0.3774010003/0032 [>............................] - 9ms/step - loss: 0.498168 - RSquared: 0.4592860004/0032 [=>...........................] - 5ms/step - loss: 0.475602 - RSquared: 0.5962510005/0032 [==>..........................] - 7ms/step - loss: 0.507694 - RSquared: 0.4880360006/0032 [===>.........................] - 7ms/step - loss: 0.502477 - RSquared: 0.6470480007/0032 [====>........................] - 6ms/step - loss: 0.509465 - RSquared: 0.3938430008/0032 [=====>.......................] - 6ms/step - loss: 0.524909 - RSquared: -0.0030200009/0032 [======>......................] - 6ms/step - loss: 0.511350 - RSquared: 0.6353140010/0032 [=======>.....................] - 6ms/step - loss: 0.503913 - RSquared: 0.4532480011/0032 [========>....................] - 7ms/step - loss: 0.500739 - RSquared: 0.4798370012/0032 [=========>...................] - 7ms/step - loss: 0.511873 - RSquared: 0.4571710013/0032 [==========>..................] - 6ms/step - loss: 0.524065 - RSquared: 0.3347190014/0032 [===========>.................] - 5ms/step - loss: 0.533650 - RSquared: 0.2789980015/0032 [============>................] - 6ms/step - loss: 0.528059 - RSquared: 0.5020900016/0032 [=============>...............] - 5ms/step - loss: 0.524863 - RSquared: 0.5833550017/0032 [==============>..............] - 8ms/step - loss: 0.523548 - RSquared: 0.5018980018/0032 [==============>..............] - 5ms/step - loss: 0.528190 - RSquared: 0.4725610019/0032 [===============>.............] - 7ms/step - loss: 0.536115 - RSquared: 0.2876420020/0032 [================>............] - 6ms/step - loss: 0.536143 - RSquared: 0.3954120021/0032 [=================>...........] - 5ms/step - loss: 0.537894 - RSquared: 0.5234030022/0032 [==================>..........] - 7ms/step - loss: 0.533342 - RSquared: 0.6450380023/0032 [===================>.........] - 9ms/step - loss: 0.536671 - RSquared: 0.4711540024/0032 [====================>........] - 5ms/step - loss: 0.537247 - RSquared: 0.4608210025/0032 [=====================>.......] - 7ms/step - loss: 0.543002 - RSquared: 0.1018740026/0032 [======================>......] - 20ms/step - loss: 0.536484 - RSquared: 0.5579240027/0032 [=======================>.....] - 17ms/step - loss: 0.537650 - RSquared: 0.5243950028/0032 [========================>....] - 10ms/step - loss: 0.537550 - RSquared: 0.1682250029/0032 [=========================>...] - 6ms/step - loss: 0.539509 - RSquared: 0.4562700030/0032 [==========================>..] - 7ms/step - loss: 0.542773 - RSquared: 0.3896750031/0032 [===========================>.] - 8ms/step - loss: 0.545807 - RSquared: 0.3340760032/0032 [=============================] - 6ms/step - loss: 0.542687 - RSquared: 0.6169790032/0032 [=============================] - 6ms/step - loss: 0.542687 - RSquared: 0.616979 - val_loss: 0.597682 - val_RSquared: 0.314899\n",
      "Epoch: 009/010\n",
      "0001/0032 [>............................] - 6ms/step - loss: 0.493376 - RSquared: 0.5725720002/0032 [>............................] - 7ms/step - loss: 0.516284 - RSquared: 0.4464860003/0032 [>............................] - 6ms/step - loss: 0.501121 - RSquared: 0.5372400004/0032 [=>...........................] - 5ms/step - loss: 0.511128 - RSquared: 0.4308080005/0032 [==>..........................] - 8ms/step - loss: 0.529121 - RSquared: 0.4268820006/0032 [===>.........................] - 6ms/step - loss: 0.506669 - RSquared: 0.6463350007/0032 [====>........................] - 7ms/step - loss: 0.504320 - RSquared: 0.5403460008/0032 [=====>.......................] - 8ms/step - loss: 0.523453 - RSquared: 0.1842880009/0032 [======>......................] - 5ms/step - loss: 0.520909 - RSquared: 0.4472370010/0032 [=======>.....................] - 7ms/step - loss: 0.533967 - RSquared: 0.4694870011/0032 [========>....................] - 6ms/step - loss: 0.538540 - RSquared: 0.4429890012/0032 [=========>...................] - 6ms/step - loss: 0.536524 - RSquared: 0.5401000013/0032 [==========>..................] - 6ms/step - loss: 0.537614 - RSquared: 0.2308520014/0032 [===========>.................] - 6ms/step - loss: 0.537627 - RSquared: 0.4559550015/0032 [============>................] - 9ms/step - loss: 0.551316 - RSquared: 0.2292360016/0032 [=============>...............] - 6ms/step - loss: 0.553249 - RSquared: 0.1033010017/0032 [==============>..............] - 7ms/step - loss: 0.551586 - RSquared: 0.5148010018/0032 [==============>..............] - 7ms/step - loss: 0.554798 - RSquared: 0.5482180019/0032 [===============>.............] - 5ms/step - loss: 0.552882 - RSquared: 0.1664090020/0032 [================>............] - 6ms/step - loss: 0.551028 - RSquared: 0.4959310021/0032 [=================>...........] - 7ms/step - loss: 0.552784 - RSquared: 0.5466890022/0032 [==================>..........] - 8ms/step - loss: 0.555331 - RSquared: 0.2261870023/0032 [===================>.........] - 5ms/step - loss: 0.553186 - RSquared: 0.4771420024/0032 [====================>........] - 6ms/step - loss: 0.555692 - RSquared: 0.4312010025/0032 [=====================>.......] - 6ms/step - loss: 0.555485 - RSquared: 0.4963270026/0032 [======================>......] - 8ms/step - loss: 0.557019 - RSquared: 0.4779930027/0032 [=======================>.....] - 5ms/step - loss: 0.552603 - RSquared: 0.5681750028/0032 [========================>....] - 6ms/step - loss: 0.547058 - RSquared: 0.5498680029/0032 [=========================>...] - 5ms/step - loss: 0.545081 - RSquared: 0.5511280030/0032 [==========================>..] - 7ms/step - loss: 0.542373 - RSquared: 0.6802120031/0032 [===========================>.] - 6ms/step - loss: 0.541448 - RSquared: 0.4996740032/0032 [=============================] - 6ms/step - loss: 0.539253 - RSquared: 0.5849360032/0032 [=============================] - 6ms/step - loss: 0.539253 - RSquared: 0.584936 - val_loss: 0.589607 - val_RSquared: 0.384409\n",
      "Epoch: 010/010\n",
      "0001/0032 [>............................] - 7ms/step - loss: 0.657275 - RSquared: 0.4492500002/0032 [>............................] - 9ms/step - loss: 0.651368 - RSquared: 0.3227260003/0032 [>............................] - 7ms/step - loss: 0.600619 - RSquared: 0.6103560004/0032 [=>...........................] - 8ms/step - loss: 0.540352 - RSquared: 0.7102280005/0032 [==>..........................] - 8ms/step - loss: 0.526226 - RSquared: 0.6134990006/0032 [===>.........................] - 5ms/step - loss: 0.519261 - RSquared: 0.4656170007/0032 [====>........................] - 7ms/step - loss: 0.506964 - RSquared: 0.5486010008/0032 [=====>.......................] - 6ms/step - loss: 0.498616 - RSquared: 0.5734320009/0032 [======>......................] - 6ms/step - loss: 0.503551 - RSquared: 0.4853300010/0032 [=======>.....................] - 6ms/step - loss: 0.487880 - RSquared: 0.7008400011/0032 [========>....................] - 6ms/step - loss: 0.494472 - RSquared: 0.4843080012/0032 [=========>...................] - 6ms/step - loss: 0.492809 - RSquared: 0.6007430013/0032 [==========>..................] - 8ms/step - loss: 0.486658 - RSquared: 0.6754240014/0032 [===========>.................] - 7ms/step - loss: 0.488288 - RSquared: 0.4921520015/0032 [============>................] - 6ms/step - loss: 0.492114 - RSquared: 0.5983100016/0032 [=============>...............] - 6ms/step - loss: 0.496510 - RSquared: 0.5378350017/0032 [==============>..............] - 7ms/step - loss: 0.502454 - RSquared: 0.4541980018/0032 [==============>..............] - 6ms/step - loss: 0.504984 - RSquared: 0.4451380019/0032 [===============>.............] - 5ms/step - loss: 0.505616 - RSquared: 0.6037270020/0032 [================>............] - 6ms/step - loss: 0.508321 - RSquared: 0.4131090021/0032 [=================>...........] - 5ms/step - loss: 0.506490 - RSquared: 0.5429000022/0032 [==================>..........] - 6ms/step - loss: 0.510116 - RSquared: 0.1358910023/0032 [===================>.........] - 6ms/step - loss: 0.517181 - RSquared: 0.1552110024/0032 [====================>........] - 8ms/step - loss: 0.520586 - RSquared: 0.5200450025/0032 [=====================>.......] - 8ms/step - loss: 0.520778 - RSquared: 0.4142870026/0032 [======================>......] - 8ms/step - loss: 0.520348 - RSquared: 0.5554570027/0032 [=======================>.....] - 9ms/step - loss: 0.520497 - RSquared: 0.2397580028/0032 [========================>....] - 5ms/step - loss: 0.520850 - RSquared: 0.5465880029/0032 [=========================>...] - 5ms/step - loss: 0.525127 - RSquared: 0.3226240030/0032 [==========================>..] - 6ms/step - loss: 0.520351 - RSquared: 0.3680930031/0032 [===========================>.] - 6ms/step - loss: 0.522418 - RSquared: 0.3136720032/0032 [=============================] - 6ms/step - loss: 0.521229 - RSquared: 0.4954910032/0032 [=============================] - 6ms/step - loss: 0.521229 - RSquared: 0.495491 - val_loss: 0.595887 - val_RSquared: 0.330571\n"
     ]
    }
   ],
   "source": [
    " Demo.run();"
   ]
  },
  {
   "cell_type": "markdown",
   "metadata": {},
   "source": []
  },
  {
   "cell_type": "markdown",
   "metadata": {},
   "source": []
  }
 ],
 "metadata": {
  "language_info": {
   "name": "python"
  }
 },
 "nbformat": 4,
 "nbformat_minor": 2
}
